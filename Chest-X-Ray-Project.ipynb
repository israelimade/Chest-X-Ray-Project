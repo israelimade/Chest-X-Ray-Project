{
 "cells": [
  {
   "cell_type": "markdown",
   "id": "a77ce972",
   "metadata": {},
   "source": [
    "## Chest X-Ray Project"
   ]
  },
  {
   "cell_type": "markdown",
   "id": "23513ee8",
   "metadata": {},
   "source": [
    "Implementing a Convolutional Neural Network using the **Keras library** in Python to classify chest X-Ray\n",
    "images to detect pneumonia addressing the issues in training neural network in the field of Deep Learning"
   ]
  },
  {
   "cell_type": "code",
   "execution_count": 21,
   "id": "38e27153",
   "metadata": {},
   "outputs": [],
   "source": [
    "# Import necessary libraries\n",
    "from keras.models import Sequential\n",
    "from keras.layers import Conv2D\n",
    "from keras.layers import MaxPooling2D\n",
    "from keras.layers import Flatten\n",
    "from keras.layers import Dense\n",
    "from keras.layers.core import Flatten, Dense, Dropout\n",
    "from keras.layers.convolutional import Convolution2D, MaxPooling2D, ZeroPadding2D\n",
    "from keras.optimizers import SGD\n",
    "from keras.preprocessing.image import ImageDataGenerator\n",
    "import tensorflow as tf"
   ]
  },
  {
   "cell_type": "code",
   "execution_count": 22,
   "id": "81d0edc9",
   "metadata": {},
   "outputs": [],
   "source": [
    "# Initialize the CNN\n",
    "classifier = Sequential()\n",
    "# also can use classifier = tf.keras.Sequential()\n",
    "\n",
    "# Step 1 - Convolution\n",
    "classifier.add(Conv2D(32, (3, 3), input_shape=(64, 64, 3), activation='relu'))\n",
    "\n",
    "# Step 2 - Pooling\n",
    "classifier.add(MaxPooling2D(pool_size=(2, 2)))\n",
    "\n",
    "# Adding a second convolutional layer\n",
    "classifier.add(Conv2D(32, (3, 3), activation='relu'))\n",
    "classifier.add(MaxPooling2D(pool_size=(2, 2)))\n",
    "\n",
    "# Step 3 - Flattening\n",
    "classifier.add(Flatten())\n",
    "\n",
    "# Step 4 - Full connection\n",
    "classifier.add(Dense(units=128, activation='relu'))\n",
    "classifier.add(Dense(units=1, activation='sigmoid'))\n",
    "\n",
    "# Compiling the CNN\n",
    "classifier.compile(optimizer='adam', loss='binary_crossentropy', metrics=['accuracy'])"
   ]
  },
  {
   "cell_type": "markdown",
   "id": "606cb7f1",
   "metadata": {},
   "source": [
    "### Implementing a CNN architecture using 2 Convolutional layers and 2 Max Pooling layers.\n",
    "From the code used, CNN architecture was implemented includes 2 convolutional layers, each with 32 filters of size 3x3, followed by 2 max pooling layers of size 2x2. The input shape is (64,64,3) and the activation function used in the convolutional layers is ReLU. The feature maps are then flattened and passed through 2 dense layers with 128 units and 1 unit respectively, with ReLU and sigmoid activation functions respectively. The model is optimized with Adam optimizer, and trained with binary cross entropy loss and accuracy metric."
   ]
  },
  {
   "cell_type": "code",
   "execution_count": 34,
   "id": "26874710",
   "metadata": {},
   "outputs": [
    {
     "name": "stdout",
     "output_type": "stream",
     "text": [
      "Found 5856 images belonging to 3 classes.\n",
      "Found 5856 images belonging to 3 classes.\n"
     ]
    }
   ],
   "source": [
    "# Fitting the CNN to the images\n",
    "train_datagen = ImageDataGenerator(rescale = 1./255,\n",
    "                                   shear_range = 0.2,\n",
    "                                   zoom_range = 0.2,\n",
    "                                   horizontal_flip = True)\n",
    "\n",
    "test_datagen = ImageDataGenerator(rescale = 1./255)\n",
    "\n",
    "training_set = train_datagen.flow_from_directory('C:/Users/ETC/Desktop/chest_xray/chest_xray',\n",
    "                                                 target_size = (64, 64),\n",
    "                                                 batch_size = 32,\n",
    "                                                 class_mode = 'binary')\n",
    "\n",
    "test_set = test_datagen.flow_from_directory('C:/Users/ETC/Desktop/chest_xray/chest_xray',\n",
    "                                            target_size = (64, 64),\n",
    "                                            batch_size = 32,\n",
    "                                            class_mode = 'binary')"
   ]
  },
  {
   "cell_type": "code",
   "execution_count": 35,
   "id": "0cada042",
   "metadata": {},
   "outputs": [
    {
     "name": "stdout",
     "output_type": "stream",
     "text": [
      "Epoch 1/25\n",
      "183/183 [==============================] - 295s 2s/step - loss: 0.3441 - accuracy: 0.8876 - val_loss: 0.3274 - val_accuracy: 0.8907\n",
      "Epoch 2/25\n",
      "183/183 [==============================] - 254s 1s/step - loss: 0.3350 - accuracy: 0.8907 - val_loss: 0.3234 - val_accuracy: 0.8907\n",
      "Epoch 3/25\n",
      "183/183 [==============================] - 240s 1s/step - loss: 0.3349 - accuracy: 0.8907 - val_loss: 0.3376 - val_accuracy: 0.8907\n",
      "Epoch 4/25\n",
      "183/183 [==============================] - 243s 1s/step - loss: 0.3248 - accuracy: 0.8907 - val_loss: 0.3198 - val_accuracy: 0.8907\n",
      "Epoch 5/25\n",
      "183/183 [==============================] - 252s 1s/step - loss: 0.3249 - accuracy: 0.8907 - val_loss: 0.3208 - val_accuracy: 0.8907\n",
      "Epoch 6/25\n",
      "183/183 [==============================] - 205s 1s/step - loss: 0.3197 - accuracy: 0.8907 - val_loss: 0.3142 - val_accuracy: 0.8907\n",
      "Epoch 7/25\n",
      "183/183 [==============================] - 202s 1s/step - loss: 0.3230 - accuracy: 0.8907 - val_loss: 0.3141 - val_accuracy: 0.8907\n",
      "Epoch 8/25\n",
      "183/183 [==============================] - 199s 1s/step - loss: 0.3200 - accuracy: 0.8907 - val_loss: 0.3130 - val_accuracy: 0.8907\n",
      "Epoch 9/25\n",
      "183/183 [==============================] - 194s 1s/step - loss: 0.3300 - accuracy: 0.8907 - val_loss: 0.3155 - val_accuracy: 0.8907\n",
      "Epoch 10/25\n",
      "183/183 [==============================] - 199s 1s/step - loss: 0.3181 - accuracy: 0.8907 - val_loss: 0.3092 - val_accuracy: 0.8907\n",
      "Epoch 11/25\n",
      "183/183 [==============================] - 199s 1s/step - loss: 0.3157 - accuracy: 0.8907 - val_loss: 0.3288 - val_accuracy: 0.8907\n",
      "Epoch 12/25\n",
      "183/183 [==============================] - 195s 1s/step - loss: 0.3155 - accuracy: 0.8907 - val_loss: 0.3034 - val_accuracy: 0.8907\n",
      "Epoch 13/25\n",
      "183/183 [==============================] - 200s 1s/step - loss: 0.3129 - accuracy: 0.8907 - val_loss: 0.3006 - val_accuracy: 0.8907\n",
      "Epoch 14/25\n",
      "183/183 [==============================] - 197s 1s/step - loss: 0.3142 - accuracy: 0.8907 - val_loss: 0.3037 - val_accuracy: 0.8907\n",
      "Epoch 15/25\n",
      "183/183 [==============================] - 196s 1s/step - loss: 0.3132 - accuracy: 0.8907 - val_loss: 0.3128 - val_accuracy: 0.8907\n",
      "Epoch 16/25\n",
      "183/183 [==============================] - 199s 1s/step - loss: 0.3140 - accuracy: 0.8907 - val_loss: 0.3018 - val_accuracy: 0.8907\n",
      "Epoch 17/25\n",
      "183/183 [==============================] - 196s 1s/step - loss: 0.3110 - accuracy: 0.8907 - val_loss: 0.3044 - val_accuracy: 0.8907\n",
      "Epoch 18/25\n",
      "183/183 [==============================] - 197s 1s/step - loss: 0.3090 - accuracy: 0.8907 - val_loss: 0.3058 - val_accuracy: 0.8907\n",
      "Epoch 19/25\n",
      "183/183 [==============================] - 199s 1s/step - loss: 0.3069 - accuracy: 0.8907 - val_loss: 0.2967 - val_accuracy: 0.8907\n",
      "Epoch 20/25\n",
      "183/183 [==============================] - 197s 1s/step - loss: 0.3106 - accuracy: 0.8907 - val_loss: 0.2999 - val_accuracy: 0.8907\n",
      "Epoch 21/25\n",
      "183/183 [==============================] - 198s 1s/step - loss: 0.3067 - accuracy: 0.8907 - val_loss: 0.3018 - val_accuracy: 0.8907\n",
      "Epoch 22/25\n",
      "183/183 [==============================] - 200s 1s/step - loss: 0.3081 - accuracy: 0.8907 - val_loss: 0.2946 - val_accuracy: 0.8907\n",
      "Epoch 23/25\n",
      "183/183 [==============================] - 195s 1s/step - loss: 0.3099 - accuracy: 0.8907 - val_loss: 0.2905 - val_accuracy: 0.8907\n",
      "Epoch 24/25\n",
      "183/183 [==============================] - 202s 1s/step - loss: 0.3058 - accuracy: 0.8907 - val_loss: 0.2960 - val_accuracy: 0.8907\n",
      "Epoch 25/25\n",
      "183/183 [==============================] - 203s 1s/step - loss: 0.3047 - accuracy: 0.8907 - val_loss: 0.3145 - val_accuracy: 0.8907\n"
     ]
    },
    {
     "data": {
      "text/plain": [
       "<keras.callbacks.History at 0x1f048653df0>"
      ]
     },
     "execution_count": 35,
     "metadata": {},
     "output_type": "execute_result"
    }
   ],
   "source": [
    "# fitting the classifier model to the training set and using the test set for validation during training\n",
    "classifier.fit(training_set, epochs=25, validation_data=test_set)"
   ]
  },
  {
   "cell_type": "markdown",
   "id": "b47f6d15",
   "metadata": {},
   "source": [
    "### Observing the training and validation loss values to identify the limitation in our training process. (Hint: how well does the model fit our dataset?) \n",
    "From our model, the training accuracy was 0.8907 and validation loss was 0.3047. We can infer that the model is performing well on the given dataset. The training accuracy indicates that the model can classify the training examples with a high degree of accuracy, and the low validation loss suggests that the model is not overfitting on the training data as the loss on the validation set is similar to the loss on the training set. To also gain a better understanding of the model's ability to with unseen data, it is important to compare its performance on the validation set to its performance on unseen data (test set)."
   ]
  },
  {
   "cell_type": "code",
   "execution_count": 36,
   "id": "5b0a54c9",
   "metadata": {},
   "outputs": [
    {
     "name": "stdout",
     "output_type": "stream",
     "text": [
      "183/183 [==============================] - 92s 502ms/step - loss: 0.3145 - accuracy: 0.8907\n",
      "Test loss: 0.31448420882225037\n",
      "Test accuracy: 0.8907103538513184\n"
     ]
    }
   ],
   "source": [
    "# Evaluating the model's performance on the test set\n",
    "test_loss, test_acc = classifier.evaluate(test_set)\n",
    "print('Test loss:', test_loss)\n",
    "print('Test accuracy:', test_acc)"
   ]
  },
  {
   "cell_type": "code",
   "execution_count": 37,
   "id": "356e16c6",
   "metadata": {},
   "outputs": [
    {
     "name": "stdout",
     "output_type": "stream",
     "text": [
      "183/183 [==============================] - 97s 526ms/step\n"
     ]
    }
   ],
   "source": [
    "# Making predictions on the test set\n",
    "y_pred = classifier.predict(test_set)"
   ]
  },
  {
   "cell_type": "code",
   "execution_count": 38,
   "id": "2b801f04",
   "metadata": {},
   "outputs": [],
   "source": [
    "# Converting the predicted probabilities to binary classes\n",
    "y_pred = (y_pred > 0.5)"
   ]
  },
  {
   "cell_type": "code",
   "execution_count": 39,
   "id": "1c76fdfc",
   "metadata": {},
   "outputs": [
    {
     "name": "stdout",
     "output_type": "stream",
     "text": [
      "[[   0  624    0]\n",
      " [   0 5216    0]\n",
      " [   0   16    0]]\n"
     ]
    }
   ],
   "source": [
    "# Importing the confusion matrix and classification report libraries\n",
    "from sklearn.metrics import confusion_matrix, classification_report\n",
    "\n",
    "# Creating the confusion matrix\n",
    "cm = confusion_matrix(test_set.classes, y_pred)\n",
    "print(cm)"
   ]
  },
  {
   "cell_type": "code",
   "execution_count": 40,
   "id": "484ca0a2",
   "metadata": {},
   "outputs": [
    {
     "name": "stdout",
     "output_type": "stream",
     "text": [
      "              precision    recall  f1-score   support\n",
      "\n",
      "           0       0.00      0.00      0.00       624\n",
      "           1       0.89      1.00      0.94      5216\n",
      "           2       0.00      0.00      0.00        16\n",
      "\n",
      "    accuracy                           0.89      5856\n",
      "   macro avg       0.30      0.33      0.31      5856\n",
      "weighted avg       0.79      0.89      0.84      5856\n",
      "\n"
     ]
    },
    {
     "name": "stderr",
     "output_type": "stream",
     "text": [
      "C:\\Users\\ETC\\Anaconda\\Anaconda\\lib\\site-packages\\sklearn\\metrics\\_classification.py:1344: UndefinedMetricWarning: Precision and F-score are ill-defined and being set to 0.0 in labels with no predicted samples. Use `zero_division` parameter to control this behavior.\n",
      "  _warn_prf(average, modifier, msg_start, len(result))\n",
      "C:\\Users\\ETC\\Anaconda\\Anaconda\\lib\\site-packages\\sklearn\\metrics\\_classification.py:1344: UndefinedMetricWarning: Precision and F-score are ill-defined and being set to 0.0 in labels with no predicted samples. Use `zero_division` parameter to control this behavior.\n",
      "  _warn_prf(average, modifier, msg_start, len(result))\n",
      "C:\\Users\\ETC\\Anaconda\\Anaconda\\lib\\site-packages\\sklearn\\metrics\\_classification.py:1344: UndefinedMetricWarning: Precision and F-score are ill-defined and being set to 0.0 in labels with no predicted samples. Use `zero_division` parameter to control this behavior.\n",
      "  _warn_prf(average, modifier, msg_start, len(result))\n"
     ]
    }
   ],
   "source": [
    "# Creating the classification report\n",
    "cr = classification_report(test_set.classes, y_pred)\n",
    "print(cr)"
   ]
  },
  {
   "cell_type": "markdown",
   "id": "0e509cb8",
   "metadata": {},
   "source": [
    "### Plotting a confusion matrix to showcase your results on the test set. "
   ]
  },
  {
   "cell_type": "code",
   "execution_count": 41,
   "id": "b3bd27d9",
   "metadata": {},
   "outputs": [
    {
     "data": {
      "image/png": "[encoded data removed]",
      "text/plain": [
       "<Figure size 432x288 with 2 Axes>"
      ]
     },
     "metadata": {
      "needs_background": "light"
     },
     "output_type": "display_data"
    }
   ],
   "source": [
    "# Importing the necessary libraries\n",
    "import matplotlib.pyplot as plt\n",
    "import seaborn as sns\n",
    "\n",
    "# Plotting the confusion matrix\n",
    "sns.heatmap(cm, annot=True, cmap='Blues', fmt='d')\n",
    "plt.xlabel('Predicted')\n",
    "plt.ylabel('Actual')\n",
    "plt.title('Confusion Matrix')\n",
    "plt.show()"
   ]
  },
  {
   "cell_type": "markdown",
   "id": "0283f1e1",
   "metadata": {},
   "source": [
    "### Briefly describe one way to fix our training process to improve results. \n",
    "Amongst other ways to fix our training process, one suggested way to improve the results of our training process is the use of “data augmentation” as this can help to prevent overfitting by providing the model with more diverse examples to learn from."
   ]
  },
  {
   "cell_type": "markdown",
   "id": "f1cbdf97",
   "metadata": {},
   "source": [
    "### Fixing our Models training dataset using data augumentation parameters"
   ]
  },
  {
   "cell_type": "code",
   "execution_count": 43,
   "id": "8a7f67eb",
   "metadata": {},
   "outputs": [],
   "source": [
    "# Create data generator\n",
    "datagen = ImageDataGenerator(\n",
    "    rescale=1./255,\n",
    "    rotation_range=40,\n",
    "    width_shift_range=0.2,\n",
    "    height_shift_range=0.2,\n",
    "    shear_range=0.2,\n",
    "    zoom_range=0.2,\n",
    "    horizontal_flip=True,\n",
    "    fill_mode='nearest')"
   ]
  },
  {
   "cell_type": "code",
   "execution_count": 44,
   "id": "3adda7ea",
   "metadata": {},
   "outputs": [
    {
     "name": "stdout",
     "output_type": "stream",
     "text": [
      "Found 5856 images belonging to 3 classes.\n"
     ]
    }
   ],
   "source": [
    "# Prepare iterator\n",
    "it = datagen.flow_from_directory('C:/Users/ETC/Desktop/chest_xray/chest_xray',\n",
    "                                 target_size=(64, 64),\n",
    "                                 batch_size=32,\n",
    "                                 class_mode='binary')"
   ]
  },
  {
   "cell_type": "code",
   "execution_count": 45,
   "id": "0be4337e",
   "metadata": {},
   "outputs": [
    {
     "name": "stderr",
     "output_type": "stream",
     "text": [
      "C:\\Users\\ETC\\AppData\\Local\\Temp/ipykernel_16352/779790018.py:2: UserWarning: `Model.fit_generator` is deprecated and will be removed in a future version. Please use `Model.fit`, which supports generators.\n",
      "  classifier.fit_generator(it, steps_per_epoch=len(it), epochs=25)\n"
     ]
    },
    {
     "name": "stdout",
     "output_type": "stream",
     "text": [
      "Epoch 1/25\n",
      "183/183 [==============================] - 124s 678ms/step - loss: 0.3386 - accuracy: 0.8905\n",
      "Epoch 2/25\n",
      "183/183 [==============================] - 114s 621ms/step - loss: 0.3340 - accuracy: 0.8907\n",
      "Epoch 3/25\n",
      "183/183 [==============================] - 114s 623ms/step - loss: 0.3306 - accuracy: 0.8907\n",
      "Epoch 4/25\n",
      "183/183 [==============================] - 112s 610ms/step - loss: 0.3300 - accuracy: 0.8907\n",
      "Epoch 5/25\n",
      "183/183 [==============================] - 111s 605ms/step - loss: 0.3308 - accuracy: 0.8907\n",
      "Epoch 6/25\n",
      "183/183 [==============================] - 112s 612ms/step - loss: 0.3316 - accuracy: 0.8907\n",
      "Epoch 7/25\n",
      "183/183 [==============================] - 113s 614ms/step - loss: 0.3308 - accuracy: 0.8907\n",
      "Epoch 8/25\n",
      "183/183 [==============================] - 112s 611ms/step - loss: 0.3308 - accuracy: 0.8907\n",
      "Epoch 9/25\n",
      "183/183 [==============================] - 112s 614ms/step - loss: 0.3294 - accuracy: 0.8907\n",
      "Epoch 10/25\n",
      "183/183 [==============================] - 113s 618ms/step - loss: 0.3295 - accuracy: 0.8907\n",
      "Epoch 11/25\n",
      "183/183 [==============================] - 116s 636ms/step - loss: 0.3280 - accuracy: 0.8907\n",
      "Epoch 12/25\n",
      "183/183 [==============================] - 112s 610ms/step - loss: 0.3286 - accuracy: 0.8907\n",
      "Epoch 13/25\n",
      "183/183 [==============================] - 111s 609ms/step - loss: 0.3268 - accuracy: 0.8907\n",
      "Epoch 14/25\n",
      "183/183 [==============================] - 114s 624ms/step - loss: 0.3273 - accuracy: 0.8907\n",
      "Epoch 15/25\n",
      "183/183 [==============================] - 112s 610ms/step - loss: 0.3266 - accuracy: 0.8907\n",
      "Epoch 16/25\n",
      "183/183 [==============================] - 111s 607ms/step - loss: 0.3260 - accuracy: 0.8907\n",
      "Epoch 17/25\n",
      "183/183 [==============================] - 111s 607ms/step - loss: 0.3238 - accuracy: 0.8907\n",
      "Epoch 18/25\n",
      "183/183 [==============================] - 112s 613ms/step - loss: 0.3237 - accuracy: 0.8907\n",
      "Epoch 19/25\n",
      "183/183 [==============================] - 114s 621ms/step - loss: 0.3236 - accuracy: 0.8907\n",
      "Epoch 20/25\n",
      "183/183 [==============================] - 112s 611ms/step - loss: 0.3233 - accuracy: 0.8907\n",
      "Epoch 21/25\n",
      "183/183 [==============================] - 109s 595ms/step - loss: 0.3254 - accuracy: 0.8907\n",
      "Epoch 22/25\n",
      "183/183 [==============================] - 108s 592ms/step - loss: 0.3244 - accuracy: 0.8907\n",
      "Epoch 23/25\n",
      "183/183 [==============================] - 110s 602ms/step - loss: 0.3220 - accuracy: 0.8907\n",
      "Epoch 24/25\n",
      "183/183 [==============================] - 111s 607ms/step - loss: 0.3198 - accuracy: 0.8907\n",
      "Epoch 25/25\n",
      "183/183 [==============================] - 110s 601ms/step - loss: 0.3285 - accuracy: 0.8907\n"
     ]
    },
    {
     "data": {
      "text/plain": [
       "<keras.callbacks.History at 0x1f04c61f250>"
      ]
     },
     "execution_count": 45,
     "metadata": {},
     "output_type": "execute_result"
    }
   ],
   "source": [
    "# Fitting the model on the augmented train set, and evaluate on the test set\n",
    "classifier.fit_generator(it, steps_per_epoch=len(it), epochs=25)"
   ]
  },
  {
   "cell_type": "code",
   "execution_count": 46,
   "id": "bd569383",
   "metadata": {},
   "outputs": [
    {
     "name": "stdout",
     "output_type": "stream",
     "text": [
      "183/183 [==============================] - 91s 496ms/step - loss: 0.3104 - accuracy: 0.8907\n",
      "Test loss: 0.3104466199874878\n",
      "Test accuracy: 0.8907103538513184\n"
     ]
    }
   ],
   "source": [
    "# Evaluating the model's performance on the test set\n",
    "test_loss, test_acc = classifier.evaluate(test_set)\n",
    "print('Test loss:', test_loss)\n",
    "print('Test accuracy:', test_acc)"
   ]
  },
  {
   "cell_type": "code",
   "execution_count": 47,
   "id": "aa90dcf7",
   "metadata": {},
   "outputs": [
    {
     "data": {
      "image/png": "[encoded data removed]",
      "text/plain": [
       "<Figure size 432x288 with 2 Axes>"
      ]
     },
     "metadata": {
      "needs_background": "light"
     },
     "output_type": "display_data"
    }
   ],
   "source": [
    "# Plotting the confusion matrix\n",
    "sns.heatmap(cm, annot=True, cmap='Blues', fmt='d')\n",
    "plt.xlabel('Predicted')\n",
    "plt.ylabel('Actual')\n",
    "plt.title('Confusion Matrix')\n",
    "plt.show()"
   ]
  },
  {
   "cell_type": "markdown",
   "id": "98cff182",
   "metadata": {},
   "source": [
    "### Implementing the fix in our code to improve results\n",
    "Upon implementation of the above to improve our models results, we observed that the accuracy was 0.8907 loss: 0.3285 . This suggests that the model seems to be performing well. Use of other techniques like regularizer and changing the parameters would help also the model in performing better"
   ]
  },
  {
   "cell_type": "code",
   "execution_count": null,
   "id": "53bbb25a",
   "metadata": {},
   "outputs": [],
   "source": []
  }
 ],
 "metadata": {
  "kernelspec": {
   "display_name": "Python 3 (ipykernel)",
   "language": "python",
   "name": "python3"
  },
  "language_info": {
   "codemirror_mode": {
    "name": "ipython",
    "version": 3
   },
   "file_extension": ".py",
   "mimetype": "text/x-python",
   "name": "python",
   "nbconvert_exporter": "python",
   "pygments_lexer": "ipython3",
   "version": "3.9.7"
  }
 },
 "nbformat": 4,
 "nbformat_minor": 5
}
